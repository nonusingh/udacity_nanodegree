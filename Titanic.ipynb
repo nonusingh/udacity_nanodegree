{
 "cells": [
  {
   "cell_type": "markdown",
   "metadata": {},
   "source": [
    "# Titanic dataset analysis using Pandas and Numpy"
   ]
  },
  {
   "cell_type": "code",
   "execution_count": 1,
   "metadata": {
    "collapsed": true
   },
   "outputs": [],
   "source": [
    "import pandas as pd"
   ]
  },
  {
   "cell_type": "code",
   "execution_count": 2,
   "metadata": {
    "collapsed": true
   },
   "outputs": [],
   "source": [
    "import numpy as np"
   ]
  },
  {
   "cell_type": "code",
   "execution_count": 3,
   "metadata": {
    "collapsed": false
   },
   "outputs": [
    {
     "name": "stdout",
     "output_type": "stream",
     "text": [
      "Populating the interactive namespace from numpy and matplotlib\n"
     ]
    }
   ],
   "source": [
    "from scipy import stats, integrate\n",
    "import scipy\n",
    "import matplotlib.pyplot as plt\n",
    "import seaborn as sns\n",
    "sns.set(color_codes=True)\n",
    "%pylab inline"
   ]
  },
  {
   "cell_type": "code",
   "execution_count": 4,
   "metadata": {
    "collapsed": true
   },
   "outputs": [],
   "source": [
    "data = pd.read_csv('Titanic.csv')"
   ]
  },
  {
   "cell_type": "code",
   "execution_count": 5,
   "metadata": {
    "collapsed": false
   },
   "outputs": [
    {
     "data": {
      "text/html": [
       "<div>\n",
       "<table border=\"1\" class=\"dataframe\">\n",
       "  <thead>\n",
       "    <tr style=\"text-align: right;\">\n",
       "      <th></th>\n",
       "      <th>PassengerId</th>\n",
       "      <th>Survived</th>\n",
       "      <th>Pclass</th>\n",
       "      <th>Name</th>\n",
       "      <th>Sex</th>\n",
       "      <th>Age</th>\n",
       "      <th>SibSp</th>\n",
       "      <th>Parch</th>\n",
       "      <th>Ticket</th>\n",
       "      <th>Fare</th>\n",
       "      <th>Cabin</th>\n",
       "      <th>Embarked</th>\n",
       "    </tr>\n",
       "  </thead>\n",
       "  <tbody>\n",
       "    <tr>\n",
       "      <th>0</th>\n",
       "      <td>1</td>\n",
       "      <td>0</td>\n",
       "      <td>3</td>\n",
       "      <td>Braund, Mr. Owen Harris</td>\n",
       "      <td>male</td>\n",
       "      <td>22.0</td>\n",
       "      <td>1</td>\n",
       "      <td>0</td>\n",
       "      <td>A/5 21171</td>\n",
       "      <td>7.2500</td>\n",
       "      <td>NaN</td>\n",
       "      <td>S</td>\n",
       "    </tr>\n",
       "    <tr>\n",
       "      <th>1</th>\n",
       "      <td>2</td>\n",
       "      <td>1</td>\n",
       "      <td>1</td>\n",
       "      <td>Cumings, Mrs. John Bradley (Florence Briggs Th...</td>\n",
       "      <td>female</td>\n",
       "      <td>38.0</td>\n",
       "      <td>1</td>\n",
       "      <td>0</td>\n",
       "      <td>PC 17599</td>\n",
       "      <td>71.2833</td>\n",
       "      <td>C85</td>\n",
       "      <td>C</td>\n",
       "    </tr>\n",
       "    <tr>\n",
       "      <th>2</th>\n",
       "      <td>3</td>\n",
       "      <td>1</td>\n",
       "      <td>3</td>\n",
       "      <td>Heikkinen, Miss. Laina</td>\n",
       "      <td>female</td>\n",
       "      <td>26.0</td>\n",
       "      <td>0</td>\n",
       "      <td>0</td>\n",
       "      <td>STON/O2. 3101282</td>\n",
       "      <td>7.9250</td>\n",
       "      <td>NaN</td>\n",
       "      <td>S</td>\n",
       "    </tr>\n",
       "    <tr>\n",
       "      <th>3</th>\n",
       "      <td>4</td>\n",
       "      <td>1</td>\n",
       "      <td>1</td>\n",
       "      <td>Futrelle, Mrs. Jacques Heath (Lily May Peel)</td>\n",
       "      <td>female</td>\n",
       "      <td>35.0</td>\n",
       "      <td>1</td>\n",
       "      <td>0</td>\n",
       "      <td>113803</td>\n",
       "      <td>53.1000</td>\n",
       "      <td>C123</td>\n",
       "      <td>S</td>\n",
       "    </tr>\n",
       "    <tr>\n",
       "      <th>4</th>\n",
       "      <td>5</td>\n",
       "      <td>0</td>\n",
       "      <td>3</td>\n",
       "      <td>Allen, Mr. William Henry</td>\n",
       "      <td>male</td>\n",
       "      <td>35.0</td>\n",
       "      <td>0</td>\n",
       "      <td>0</td>\n",
       "      <td>373450</td>\n",
       "      <td>8.0500</td>\n",
       "      <td>NaN</td>\n",
       "      <td>S</td>\n",
       "    </tr>\n",
       "  </tbody>\n",
       "</table>\n",
       "</div>"
      ],
      "text/plain": [
       "   PassengerId  Survived  Pclass  \\\n",
       "0            1         0       3   \n",
       "1            2         1       1   \n",
       "2            3         1       3   \n",
       "3            4         1       1   \n",
       "4            5         0       3   \n",
       "\n",
       "                                                Name     Sex   Age  SibSp  \\\n",
       "0                            Braund, Mr. Owen Harris    male  22.0      1   \n",
       "1  Cumings, Mrs. John Bradley (Florence Briggs Th...  female  38.0      1   \n",
       "2                             Heikkinen, Miss. Laina  female  26.0      0   \n",
       "3       Futrelle, Mrs. Jacques Heath (Lily May Peel)  female  35.0      1   \n",
       "4                           Allen, Mr. William Henry    male  35.0      0   \n",
       "\n",
       "   Parch            Ticket     Fare Cabin Embarked  \n",
       "0      0         A/5 21171   7.2500   NaN        S  \n",
       "1      0          PC 17599  71.2833   C85        C  \n",
       "2      0  STON/O2. 3101282   7.9250   NaN        S  \n",
       "3      0            113803  53.1000  C123        S  \n",
       "4      0            373450   8.0500   NaN        S  "
      ]
     },
     "execution_count": 5,
     "metadata": {},
     "output_type": "execute_result"
    }
   ],
   "source": [
    "data.head()"
   ]
  },
  {
   "cell_type": "markdown",
   "metadata": {},
   "source": [
    "## Data Exploration"
   ]
  },
  {
   "cell_type": "code",
   "execution_count": 67,
   "metadata": {
    "collapsed": true
   },
   "outputs": [],
   "source": [
    "#Function to create grouped data by factors\n",
    "def grouped_by_factors(df,factor):\n",
    "    mean_by_factor = df.groupby(factor).describe()\n",
    "    return mean_by_factor"
   ]
  },
  {
   "cell_type": "markdown",
   "metadata": {},
   "source": [
    "###  Understanding Dependent factor 'Survived'"
   ]
  },
  {
   "cell_type": "code",
   "execution_count": 7,
   "metadata": {
    "collapsed": false
   },
   "outputs": [
    {
     "data": {
      "text/html": [
       "<div>\n",
       "<table border=\"1\" class=\"dataframe\">\n",
       "  <thead>\n",
       "    <tr style=\"text-align: right;\">\n",
       "      <th></th>\n",
       "      <th></th>\n",
       "      <th>Age</th>\n",
       "      <th>Fare</th>\n",
       "      <th>Parch</th>\n",
       "      <th>PassengerId</th>\n",
       "      <th>Pclass</th>\n",
       "      <th>SibSp</th>\n",
       "    </tr>\n",
       "    <tr>\n",
       "      <th>Survived</th>\n",
       "      <th></th>\n",
       "      <th></th>\n",
       "      <th></th>\n",
       "      <th></th>\n",
       "      <th></th>\n",
       "      <th></th>\n",
       "      <th></th>\n",
       "    </tr>\n",
       "  </thead>\n",
       "  <tbody>\n",
       "    <tr>\n",
       "      <th rowspan=\"8\" valign=\"top\">0</th>\n",
       "      <th>count</th>\n",
       "      <td>424.000000</td>\n",
       "      <td>549.000000</td>\n",
       "      <td>549.000000</td>\n",
       "      <td>549.000000</td>\n",
       "      <td>549.000000</td>\n",
       "      <td>549.000000</td>\n",
       "    </tr>\n",
       "    <tr>\n",
       "      <th>mean</th>\n",
       "      <td>30.626179</td>\n",
       "      <td>22.117887</td>\n",
       "      <td>0.329690</td>\n",
       "      <td>447.016393</td>\n",
       "      <td>2.531876</td>\n",
       "      <td>0.553734</td>\n",
       "    </tr>\n",
       "    <tr>\n",
       "      <th>std</th>\n",
       "      <td>14.172110</td>\n",
       "      <td>31.388207</td>\n",
       "      <td>0.823166</td>\n",
       "      <td>260.640469</td>\n",
       "      <td>0.735805</td>\n",
       "      <td>1.288399</td>\n",
       "    </tr>\n",
       "    <tr>\n",
       "      <th>min</th>\n",
       "      <td>1.000000</td>\n",
       "      <td>0.000000</td>\n",
       "      <td>0.000000</td>\n",
       "      <td>1.000000</td>\n",
       "      <td>1.000000</td>\n",
       "      <td>0.000000</td>\n",
       "    </tr>\n",
       "    <tr>\n",
       "      <th>25%</th>\n",
       "      <td>21.000000</td>\n",
       "      <td>7.854200</td>\n",
       "      <td>0.000000</td>\n",
       "      <td>211.000000</td>\n",
       "      <td>2.000000</td>\n",
       "      <td>0.000000</td>\n",
       "    </tr>\n",
       "    <tr>\n",
       "      <th>50%</th>\n",
       "      <td>28.000000</td>\n",
       "      <td>10.500000</td>\n",
       "      <td>0.000000</td>\n",
       "      <td>455.000000</td>\n",
       "      <td>3.000000</td>\n",
       "      <td>0.000000</td>\n",
       "    </tr>\n",
       "    <tr>\n",
       "      <th>75%</th>\n",
       "      <td>39.000000</td>\n",
       "      <td>26.000000</td>\n",
       "      <td>0.000000</td>\n",
       "      <td>675.000000</td>\n",
       "      <td>3.000000</td>\n",
       "      <td>1.000000</td>\n",
       "    </tr>\n",
       "    <tr>\n",
       "      <th>max</th>\n",
       "      <td>74.000000</td>\n",
       "      <td>263.000000</td>\n",
       "      <td>6.000000</td>\n",
       "      <td>891.000000</td>\n",
       "      <td>3.000000</td>\n",
       "      <td>8.000000</td>\n",
       "    </tr>\n",
       "    <tr>\n",
       "      <th rowspan=\"8\" valign=\"top\">1</th>\n",
       "      <th>count</th>\n",
       "      <td>290.000000</td>\n",
       "      <td>342.000000</td>\n",
       "      <td>342.000000</td>\n",
       "      <td>342.000000</td>\n",
       "      <td>342.000000</td>\n",
       "      <td>342.000000</td>\n",
       "    </tr>\n",
       "    <tr>\n",
       "      <th>mean</th>\n",
       "      <td>28.343690</td>\n",
       "      <td>48.395408</td>\n",
       "      <td>0.464912</td>\n",
       "      <td>444.368421</td>\n",
       "      <td>1.950292</td>\n",
       "      <td>0.473684</td>\n",
       "    </tr>\n",
       "    <tr>\n",
       "      <th>std</th>\n",
       "      <td>14.950952</td>\n",
       "      <td>66.596998</td>\n",
       "      <td>0.771712</td>\n",
       "      <td>252.358840</td>\n",
       "      <td>0.863321</td>\n",
       "      <td>0.708688</td>\n",
       "    </tr>\n",
       "    <tr>\n",
       "      <th>min</th>\n",
       "      <td>0.420000</td>\n",
       "      <td>0.000000</td>\n",
       "      <td>0.000000</td>\n",
       "      <td>2.000000</td>\n",
       "      <td>1.000000</td>\n",
       "      <td>0.000000</td>\n",
       "    </tr>\n",
       "    <tr>\n",
       "      <th>25%</th>\n",
       "      <td>19.000000</td>\n",
       "      <td>12.475000</td>\n",
       "      <td>0.000000</td>\n",
       "      <td>250.750000</td>\n",
       "      <td>1.000000</td>\n",
       "      <td>0.000000</td>\n",
       "    </tr>\n",
       "    <tr>\n",
       "      <th>50%</th>\n",
       "      <td>28.000000</td>\n",
       "      <td>26.000000</td>\n",
       "      <td>0.000000</td>\n",
       "      <td>439.500000</td>\n",
       "      <td>2.000000</td>\n",
       "      <td>0.000000</td>\n",
       "    </tr>\n",
       "    <tr>\n",
       "      <th>75%</th>\n",
       "      <td>36.000000</td>\n",
       "      <td>57.000000</td>\n",
       "      <td>1.000000</td>\n",
       "      <td>651.500000</td>\n",
       "      <td>3.000000</td>\n",
       "      <td>1.000000</td>\n",
       "    </tr>\n",
       "    <tr>\n",
       "      <th>max</th>\n",
       "      <td>80.000000</td>\n",
       "      <td>512.329200</td>\n",
       "      <td>5.000000</td>\n",
       "      <td>890.000000</td>\n",
       "      <td>3.000000</td>\n",
       "      <td>4.000000</td>\n",
       "    </tr>\n",
       "  </tbody>\n",
       "</table>\n",
       "</div>"
      ],
      "text/plain": [
       "                       Age        Fare       Parch  PassengerId      Pclass  \\\n",
       "Survived                                                                      \n",
       "0        count  424.000000  549.000000  549.000000   549.000000  549.000000   \n",
       "         mean    30.626179   22.117887    0.329690   447.016393    2.531876   \n",
       "         std     14.172110   31.388207    0.823166   260.640469    0.735805   \n",
       "         min      1.000000    0.000000    0.000000     1.000000    1.000000   \n",
       "         25%     21.000000    7.854200    0.000000   211.000000    2.000000   \n",
       "         50%     28.000000   10.500000    0.000000   455.000000    3.000000   \n",
       "         75%     39.000000   26.000000    0.000000   675.000000    3.000000   \n",
       "         max     74.000000  263.000000    6.000000   891.000000    3.000000   \n",
       "1        count  290.000000  342.000000  342.000000   342.000000  342.000000   \n",
       "         mean    28.343690   48.395408    0.464912   444.368421    1.950292   \n",
       "         std     14.950952   66.596998    0.771712   252.358840    0.863321   \n",
       "         min      0.420000    0.000000    0.000000     2.000000    1.000000   \n",
       "         25%     19.000000   12.475000    0.000000   250.750000    1.000000   \n",
       "         50%     28.000000   26.000000    0.000000   439.500000    2.000000   \n",
       "         75%     36.000000   57.000000    1.000000   651.500000    3.000000   \n",
       "         max     80.000000  512.329200    5.000000   890.000000    3.000000   \n",
       "\n",
       "                     SibSp  \n",
       "Survived                    \n",
       "0        count  549.000000  \n",
       "         mean     0.553734  \n",
       "         std      1.288399  \n",
       "         min      0.000000  \n",
       "         25%      0.000000  \n",
       "         50%      0.000000  \n",
       "         75%      1.000000  \n",
       "         max      8.000000  \n",
       "1        count  342.000000  \n",
       "         mean     0.473684  \n",
       "         std      0.708688  \n",
       "         min      0.000000  \n",
       "         25%      0.000000  \n",
       "         50%      0.000000  \n",
       "         75%      1.000000  \n",
       "         max      4.000000  "
      ]
     },
     "execution_count": 7,
     "metadata": {},
     "output_type": "execute_result"
    }
   ],
   "source": [
    "grouped_by_factors(data,'Survived')"
   ]
  },
  {
   "cell_type": "markdown",
   "metadata": {},
   "source": [
    "####  'Survived' by Age"
   ]
  },
  {
   "cell_type": "code",
   "execution_count": 8,
   "metadata": {
    "collapsed": false
   },
   "outputs": [
    {
     "name": "stdout",
     "output_type": "stream",
     "text": [
      "Populating the interactive namespace from numpy and matplotlib\n"
     ]
    },
    {
     "data": {
      "text/plain": [
       "<seaborn.axisgrid.FacetGrid at 0x7b73390>"
      ]
     },
     "execution_count": 8,
     "metadata": {},
     "output_type": "execute_result"
    },
    {
     "data": {
      "image/png": "[encoded data removed]",
      "text/plain": [
       "<matplotlib.figure.Figure at 0x8236d10>"
      ]
     },
     "metadata": {},
     "output_type": "display_data"
    }
   ],
   "source": [
    "%pylab inline\n",
    "sns.factorplot(\"Survived\", y=\"Age\", data=data, kind=\"box\")"
   ]
  },
  {
   "cell_type": "markdown",
   "metadata": {},
   "source": [
    "The data shows 549 passengers did not survive and 342 did. Average age of passengers that survived was 28.3(std=14.9) years as compared to 30.62(14.17) for those who did not survive."
   ]
  },
  {
   "cell_type": "markdown",
   "metadata": {},
   "source": [
    "####  'Survived' by Fare"
   ]
  },
  {
   "cell_type": "code",
   "execution_count": 9,
   "metadata": {
    "collapsed": false
   },
   "outputs": [
    {
     "data": {
      "text/plain": [
       "<seaborn.axisgrid.FacetGrid at 0x8169f50>"
      ]
     },
     "execution_count": 9,
     "metadata": {},
     "output_type": "execute_result"
    },
    {
     "data": {
      "image/png": "[encoded data removed]",
      "text/plain": [
       "<matplotlib.figure.Figure at 0x8236ed0>"
      ]
     },
     "metadata": {},
     "output_type": "display_data"
    }
   ],
   "source": [
    "sns.factorplot(\"Survived\", y=\"Fare\", data=data, kind=\"box\")"
   ]
  },
  {
   "cell_type": "markdown",
   "metadata": {},
   "source": [
    "On average, passengers who survived paid higher fare(mean=48 dollars,std=31.4) as compared to who did not(mean=22.1 dollars, std=66.6) but the std dev of fare is also high. Fare difference indicates that Class1 is upper class with expensive tickets and Class3 is lower"
   ]
  },
  {
   "cell_type": "markdown",
   "metadata": {},
   "source": [
    "### Understanding Sex as a factor"
   ]
  },
  {
   "cell_type": "code",
   "execution_count": 10,
   "metadata": {
    "collapsed": false
   },
   "outputs": [
    {
     "data": {
      "text/html": [
       "<div>\n",
       "<table border=\"1\" class=\"dataframe\">\n",
       "  <thead>\n",
       "    <tr style=\"text-align: right;\">\n",
       "      <th></th>\n",
       "      <th></th>\n",
       "      <th>Age</th>\n",
       "      <th>Fare</th>\n",
       "      <th>Parch</th>\n",
       "      <th>PassengerId</th>\n",
       "      <th>Pclass</th>\n",
       "      <th>SibSp</th>\n",
       "      <th>Survived</th>\n",
       "    </tr>\n",
       "    <tr>\n",
       "      <th>Sex</th>\n",
       "      <th></th>\n",
       "      <th></th>\n",
       "      <th></th>\n",
       "      <th></th>\n",
       "      <th></th>\n",
       "      <th></th>\n",
       "      <th></th>\n",
       "      <th></th>\n",
       "    </tr>\n",
       "  </thead>\n",
       "  <tbody>\n",
       "    <tr>\n",
       "      <th rowspan=\"8\" valign=\"top\">female</th>\n",
       "      <th>count</th>\n",
       "      <td>261.000000</td>\n",
       "      <td>314.000000</td>\n",
       "      <td>314.000000</td>\n",
       "      <td>314.000000</td>\n",
       "      <td>314.000000</td>\n",
       "      <td>314.000000</td>\n",
       "      <td>314.000000</td>\n",
       "    </tr>\n",
       "    <tr>\n",
       "      <th>mean</th>\n",
       "      <td>27.915709</td>\n",
       "      <td>44.479818</td>\n",
       "      <td>0.649682</td>\n",
       "      <td>431.028662</td>\n",
       "      <td>2.159236</td>\n",
       "      <td>0.694268</td>\n",
       "      <td>0.742038</td>\n",
       "    </tr>\n",
       "    <tr>\n",
       "      <th>std</th>\n",
       "      <td>14.110146</td>\n",
       "      <td>57.997698</td>\n",
       "      <td>1.022846</td>\n",
       "      <td>256.846324</td>\n",
       "      <td>0.857290</td>\n",
       "      <td>1.156520</td>\n",
       "      <td>0.438211</td>\n",
       "    </tr>\n",
       "    <tr>\n",
       "      <th>min</th>\n",
       "      <td>0.750000</td>\n",
       "      <td>6.750000</td>\n",
       "      <td>0.000000</td>\n",
       "      <td>2.000000</td>\n",
       "      <td>1.000000</td>\n",
       "      <td>0.000000</td>\n",
       "      <td>0.000000</td>\n",
       "    </tr>\n",
       "    <tr>\n",
       "      <th>25%</th>\n",
       "      <td>18.000000</td>\n",
       "      <td>12.071875</td>\n",
       "      <td>0.000000</td>\n",
       "      <td>231.750000</td>\n",
       "      <td>1.000000</td>\n",
       "      <td>0.000000</td>\n",
       "      <td>0.000000</td>\n",
       "    </tr>\n",
       "    <tr>\n",
       "      <th>50%</th>\n",
       "      <td>27.000000</td>\n",
       "      <td>23.000000</td>\n",
       "      <td>0.000000</td>\n",
       "      <td>414.500000</td>\n",
       "      <td>2.000000</td>\n",
       "      <td>0.000000</td>\n",
       "      <td>1.000000</td>\n",
       "    </tr>\n",
       "    <tr>\n",
       "      <th>75%</th>\n",
       "      <td>37.000000</td>\n",
       "      <td>55.000000</td>\n",
       "      <td>1.000000</td>\n",
       "      <td>641.250000</td>\n",
       "      <td>3.000000</td>\n",
       "      <td>1.000000</td>\n",
       "      <td>1.000000</td>\n",
       "    </tr>\n",
       "    <tr>\n",
       "      <th>max</th>\n",
       "      <td>63.000000</td>\n",
       "      <td>512.329200</td>\n",
       "      <td>6.000000</td>\n",
       "      <td>889.000000</td>\n",
       "      <td>3.000000</td>\n",
       "      <td>8.000000</td>\n",
       "      <td>1.000000</td>\n",
       "    </tr>\n",
       "    <tr>\n",
       "      <th rowspan=\"8\" valign=\"top\">male</th>\n",
       "      <th>count</th>\n",
       "      <td>453.000000</td>\n",
       "      <td>577.000000</td>\n",
       "      <td>577.000000</td>\n",
       "      <td>577.000000</td>\n",
       "      <td>577.000000</td>\n",
       "      <td>577.000000</td>\n",
       "      <td>577.000000</td>\n",
       "    </tr>\n",
       "    <tr>\n",
       "      <th>mean</th>\n",
       "      <td>30.726645</td>\n",
       "      <td>25.523893</td>\n",
       "      <td>0.235702</td>\n",
       "      <td>454.147314</td>\n",
       "      <td>2.389948</td>\n",
       "      <td>0.429809</td>\n",
       "      <td>0.188908</td>\n",
       "    </tr>\n",
       "    <tr>\n",
       "      <th>std</th>\n",
       "      <td>14.678201</td>\n",
       "      <td>43.138263</td>\n",
       "      <td>0.612294</td>\n",
       "      <td>257.486139</td>\n",
       "      <td>0.813580</td>\n",
       "      <td>1.061811</td>\n",
       "      <td>0.391775</td>\n",
       "    </tr>\n",
       "    <tr>\n",
       "      <th>min</th>\n",
       "      <td>0.420000</td>\n",
       "      <td>0.000000</td>\n",
       "      <td>0.000000</td>\n",
       "      <td>1.000000</td>\n",
       "      <td>1.000000</td>\n",
       "      <td>0.000000</td>\n",
       "      <td>0.000000</td>\n",
       "    </tr>\n",
       "    <tr>\n",
       "      <th>25%</th>\n",
       "      <td>21.000000</td>\n",
       "      <td>7.895800</td>\n",
       "      <td>0.000000</td>\n",
       "      <td>222.000000</td>\n",
       "      <td>2.000000</td>\n",
       "      <td>0.000000</td>\n",
       "      <td>0.000000</td>\n",
       "    </tr>\n",
       "    <tr>\n",
       "      <th>50%</th>\n",
       "      <td>29.000000</td>\n",
       "      <td>10.500000</td>\n",
       "      <td>0.000000</td>\n",
       "      <td>464.000000</td>\n",
       "      <td>3.000000</td>\n",
       "      <td>0.000000</td>\n",
       "      <td>0.000000</td>\n",
       "    </tr>\n",
       "    <tr>\n",
       "      <th>75%</th>\n",
       "      <td>39.000000</td>\n",
       "      <td>26.550000</td>\n",
       "      <td>0.000000</td>\n",
       "      <td>680.000000</td>\n",
       "      <td>3.000000</td>\n",
       "      <td>0.000000</td>\n",
       "      <td>0.000000</td>\n",
       "    </tr>\n",
       "    <tr>\n",
       "      <th>max</th>\n",
       "      <td>80.000000</td>\n",
       "      <td>512.329200</td>\n",
       "      <td>5.000000</td>\n",
       "      <td>891.000000</td>\n",
       "      <td>3.000000</td>\n",
       "      <td>8.000000</td>\n",
       "      <td>1.000000</td>\n",
       "    </tr>\n",
       "  </tbody>\n",
       "</table>\n",
       "</div>"
      ],
      "text/plain": [
       "                     Age        Fare       Parch  PassengerId      Pclass  \\\n",
       "Sex                                                                         \n",
       "female count  261.000000  314.000000  314.000000   314.000000  314.000000   \n",
       "       mean    27.915709   44.479818    0.649682   431.028662    2.159236   \n",
       "       std     14.110146   57.997698    1.022846   256.846324    0.857290   \n",
       "       min      0.750000    6.750000    0.000000     2.000000    1.000000   \n",
       "       25%     18.000000   12.071875    0.000000   231.750000    1.000000   \n",
       "       50%     27.000000   23.000000    0.000000   414.500000    2.000000   \n",
       "       75%     37.000000   55.000000    1.000000   641.250000    3.000000   \n",
       "       max     63.000000  512.329200    6.000000   889.000000    3.000000   \n",
       "male   count  453.000000  577.000000  577.000000   577.000000  577.000000   \n",
       "       mean    30.726645   25.523893    0.235702   454.147314    2.389948   \n",
       "       std     14.678201   43.138263    0.612294   257.486139    0.813580   \n",
       "       min      0.420000    0.000000    0.000000     1.000000    1.000000   \n",
       "       25%     21.000000    7.895800    0.000000   222.000000    2.000000   \n",
       "       50%     29.000000   10.500000    0.000000   464.000000    3.000000   \n",
       "       75%     39.000000   26.550000    0.000000   680.000000    3.000000   \n",
       "       max     80.000000  512.329200    5.000000   891.000000    3.000000   \n",
       "\n",
       "                   SibSp    Survived  \n",
       "Sex                                   \n",
       "female count  314.000000  314.000000  \n",
       "       mean     0.694268    0.742038  \n",
       "       std      1.156520    0.438211  \n",
       "       min      0.000000    0.000000  \n",
       "       25%      0.000000    0.000000  \n",
       "       50%      0.000000    1.000000  \n",
       "       75%      1.000000    1.000000  \n",
       "       max      8.000000    1.000000  \n",
       "male   count  577.000000  577.000000  \n",
       "       mean     0.429809    0.188908  \n",
       "       std      1.061811    0.391775  \n",
       "       min      0.000000    0.000000  \n",
       "       25%      0.000000    0.000000  \n",
       "       50%      0.000000    0.000000  \n",
       "       75%      0.000000    0.000000  \n",
       "       max      8.000000    1.000000  "
      ]
     },
     "execution_count": 10,
     "metadata": {},
     "output_type": "execute_result"
    }
   ],
   "source": [
    "data.groupby('Sex').describe()"
   ]
  },
  {
   "cell_type": "markdown",
   "metadata": {},
   "source": [
    "Mean age of females who boarded the ship was 27-28 years and males was 30-31 years"
   ]
  },
  {
   "cell_type": "markdown",
   "metadata": {},
   "source": [
    "####  'Survived' by Pclass and Sex"
   ]
  },
  {
   "cell_type": "code",
   "execution_count": 11,
   "metadata": {
    "collapsed": false
   },
   "outputs": [
    {
     "data": {
      "image/png": "[encoded data removed]",
      "text/plain": [
       "<matplotlib.figure.Figure at 0x8270b90>"
      ]
     },
     "metadata": {},
     "output_type": "display_data"
    }
   ],
   "source": [
    "sns.barplot(x=\"Pclass\", y=\"Survived\", hue=\"Sex\", data=data);"
   ]
  },
  {
   "cell_type": "markdown",
   "metadata": {},
   "source": [
    "There were 314 females and 577 males, mean for female survivors(mean=0.74,std= 0.44) is more than males(mean=0.19,std= 0.39) across all Pclasses, Survival has linear relationship with class"
   ]
  },
  {
   "cell_type": "markdown",
   "metadata": {},
   "source": [
    "####  'Survived' by Fare and Sex"
   ]
  },
  {
   "cell_type": "code",
   "execution_count": 13,
   "metadata": {
    "collapsed": false
   },
   "outputs": [
    {
     "data": {
      "image/png": "[encoded data removed]",
      "text/plain": [
       "<matplotlib.figure.Figure at 0x827b290>"
      ]
     },
     "metadata": {},
     "output_type": "display_data"
    }
   ],
   "source": [
    "sns.barplot(x=\"Sex\", y=\"Fare\", hue=\"Survived\", data=data);"
   ]
  },
  {
   "cell_type": "markdown",
   "metadata": {},
   "source": [
    "Avg Fare of females was 44.47 and of males was 25.52. Males and Females survivors had higher mean fare"
   ]
  },
  {
   "cell_type": "markdown",
   "metadata": {},
   "source": [
    "### Understanding Pclass as a factor"
   ]
  },
  {
   "cell_type": "code",
   "execution_count": 14,
   "metadata": {
    "collapsed": false
   },
   "outputs": [
    {
     "data": {
      "text/html": [
       "<div>\n",
       "<table border=\"1\" class=\"dataframe\">\n",
       "  <thead>\n",
       "    <tr style=\"text-align: right;\">\n",
       "      <th></th>\n",
       "      <th></th>\n",
       "      <th>Age</th>\n",
       "      <th>Fare</th>\n",
       "      <th>Parch</th>\n",
       "      <th>PassengerId</th>\n",
       "      <th>SibSp</th>\n",
       "      <th>Survived</th>\n",
       "    </tr>\n",
       "    <tr>\n",
       "      <th>Pclass</th>\n",
       "      <th></th>\n",
       "      <th></th>\n",
       "      <th></th>\n",
       "      <th></th>\n",
       "      <th></th>\n",
       "      <th></th>\n",
       "      <th></th>\n",
       "    </tr>\n",
       "  </thead>\n",
       "  <tbody>\n",
       "    <tr>\n",
       "      <th rowspan=\"8\" valign=\"top\">1</th>\n",
       "      <th>count</th>\n",
       "      <td>186.000000</td>\n",
       "      <td>216.000000</td>\n",
       "      <td>216.000000</td>\n",
       "      <td>216.000000</td>\n",
       "      <td>216.000000</td>\n",
       "      <td>216.000000</td>\n",
       "    </tr>\n",
       "    <tr>\n",
       "      <th>mean</th>\n",
       "      <td>38.233441</td>\n",
       "      <td>84.154687</td>\n",
       "      <td>0.356481</td>\n",
       "      <td>461.597222</td>\n",
       "      <td>0.416667</td>\n",
       "      <td>0.629630</td>\n",
       "    </tr>\n",
       "    <tr>\n",
       "      <th>std</th>\n",
       "      <td>14.802856</td>\n",
       "      <td>78.380373</td>\n",
       "      <td>0.693997</td>\n",
       "      <td>246.737616</td>\n",
       "      <td>0.611898</td>\n",
       "      <td>0.484026</td>\n",
       "    </tr>\n",
       "    <tr>\n",
       "      <th>min</th>\n",
       "      <td>0.920000</td>\n",
       "      <td>0.000000</td>\n",
       "      <td>0.000000</td>\n",
       "      <td>2.000000</td>\n",
       "      <td>0.000000</td>\n",
       "      <td>0.000000</td>\n",
       "    </tr>\n",
       "    <tr>\n",
       "      <th>25%</th>\n",
       "      <td>27.000000</td>\n",
       "      <td>30.923950</td>\n",
       "      <td>0.000000</td>\n",
       "      <td>270.750000</td>\n",
       "      <td>0.000000</td>\n",
       "      <td>0.000000</td>\n",
       "    </tr>\n",
       "    <tr>\n",
       "      <th>50%</th>\n",
       "      <td>37.000000</td>\n",
       "      <td>60.287500</td>\n",
       "      <td>0.000000</td>\n",
       "      <td>472.000000</td>\n",
       "      <td>0.000000</td>\n",
       "      <td>1.000000</td>\n",
       "    </tr>\n",
       "    <tr>\n",
       "      <th>75%</th>\n",
       "      <td>49.000000</td>\n",
       "      <td>93.500000</td>\n",
       "      <td>0.000000</td>\n",
       "      <td>670.500000</td>\n",
       "      <td>1.000000</td>\n",
       "      <td>1.000000</td>\n",
       "    </tr>\n",
       "    <tr>\n",
       "      <th>max</th>\n",
       "      <td>80.000000</td>\n",
       "      <td>512.329200</td>\n",
       "      <td>4.000000</td>\n",
       "      <td>890.000000</td>\n",
       "      <td>3.000000</td>\n",
       "      <td>1.000000</td>\n",
       "    </tr>\n",
       "    <tr>\n",
       "      <th rowspan=\"8\" valign=\"top\">2</th>\n",
       "      <th>count</th>\n",
       "      <td>173.000000</td>\n",
       "      <td>184.000000</td>\n",
       "      <td>184.000000</td>\n",
       "      <td>184.000000</td>\n",
       "      <td>184.000000</td>\n",
       "      <td>184.000000</td>\n",
       "    </tr>\n",
       "    <tr>\n",
       "      <th>mean</th>\n",
       "      <td>29.877630</td>\n",
       "      <td>20.662183</td>\n",
       "      <td>0.380435</td>\n",
       "      <td>445.956522</td>\n",
       "      <td>0.402174</td>\n",
       "      <td>0.472826</td>\n",
       "    </tr>\n",
       "    <tr>\n",
       "      <th>std</th>\n",
       "      <td>14.001077</td>\n",
       "      <td>13.417399</td>\n",
       "      <td>0.690963</td>\n",
       "      <td>250.852161</td>\n",
       "      <td>0.601633</td>\n",
       "      <td>0.500623</td>\n",
       "    </tr>\n",
       "    <tr>\n",
       "      <th>min</th>\n",
       "      <td>0.670000</td>\n",
       "      <td>0.000000</td>\n",
       "      <td>0.000000</td>\n",
       "      <td>10.000000</td>\n",
       "      <td>0.000000</td>\n",
       "      <td>0.000000</td>\n",
       "    </tr>\n",
       "    <tr>\n",
       "      <th>25%</th>\n",
       "      <td>23.000000</td>\n",
       "      <td>13.000000</td>\n",
       "      <td>0.000000</td>\n",
       "      <td>234.500000</td>\n",
       "      <td>0.000000</td>\n",
       "      <td>0.000000</td>\n",
       "    </tr>\n",
       "    <tr>\n",
       "      <th>50%</th>\n",
       "      <td>29.000000</td>\n",
       "      <td>14.250000</td>\n",
       "      <td>0.000000</td>\n",
       "      <td>435.500000</td>\n",
       "      <td>0.000000</td>\n",
       "      <td>0.000000</td>\n",
       "    </tr>\n",
       "    <tr>\n",
       "      <th>75%</th>\n",
       "      <td>36.000000</td>\n",
       "      <td>26.000000</td>\n",
       "      <td>1.000000</td>\n",
       "      <td>668.000000</td>\n",
       "      <td>1.000000</td>\n",
       "      <td>1.000000</td>\n",
       "    </tr>\n",
       "    <tr>\n",
       "      <th>max</th>\n",
       "      <td>70.000000</td>\n",
       "      <td>73.500000</td>\n",
       "      <td>3.000000</td>\n",
       "      <td>887.000000</td>\n",
       "      <td>3.000000</td>\n",
       "      <td>1.000000</td>\n",
       "    </tr>\n",
       "    <tr>\n",
       "      <th rowspan=\"8\" valign=\"top\">3</th>\n",
       "      <th>count</th>\n",
       "      <td>355.000000</td>\n",
       "      <td>491.000000</td>\n",
       "      <td>491.000000</td>\n",
       "      <td>491.000000</td>\n",
       "      <td>491.000000</td>\n",
       "      <td>491.000000</td>\n",
       "    </tr>\n",
       "    <tr>\n",
       "      <th>mean</th>\n",
       "      <td>25.140620</td>\n",
       "      <td>13.675550</td>\n",
       "      <td>0.393075</td>\n",
       "      <td>439.154786</td>\n",
       "      <td>0.615071</td>\n",
       "      <td>0.242363</td>\n",
       "    </tr>\n",
       "    <tr>\n",
       "      <th>std</th>\n",
       "      <td>12.495398</td>\n",
       "      <td>11.778142</td>\n",
       "      <td>0.888861</td>\n",
       "      <td>264.441453</td>\n",
       "      <td>1.374883</td>\n",
       "      <td>0.428949</td>\n",
       "    </tr>\n",
       "    <tr>\n",
       "      <th>min</th>\n",
       "      <td>0.420000</td>\n",
       "      <td>0.000000</td>\n",
       "      <td>0.000000</td>\n",
       "      <td>1.000000</td>\n",
       "      <td>0.000000</td>\n",
       "      <td>0.000000</td>\n",
       "    </tr>\n",
       "    <tr>\n",
       "      <th>25%</th>\n",
       "      <td>18.000000</td>\n",
       "      <td>7.750000</td>\n",
       "      <td>0.000000</td>\n",
       "      <td>200.000000</td>\n",
       "      <td>0.000000</td>\n",
       "      <td>0.000000</td>\n",
       "    </tr>\n",
       "    <tr>\n",
       "      <th>50%</th>\n",
       "      <td>24.000000</td>\n",
       "      <td>8.050000</td>\n",
       "      <td>0.000000</td>\n",
       "      <td>432.000000</td>\n",
       "      <td>0.000000</td>\n",
       "      <td>0.000000</td>\n",
       "    </tr>\n",
       "    <tr>\n",
       "      <th>75%</th>\n",
       "      <td>32.000000</td>\n",
       "      <td>15.500000</td>\n",
       "      <td>0.000000</td>\n",
       "      <td>666.500000</td>\n",
       "      <td>1.000000</td>\n",
       "      <td>0.000000</td>\n",
       "    </tr>\n",
       "    <tr>\n",
       "      <th>max</th>\n",
       "      <td>74.000000</td>\n",
       "      <td>69.550000</td>\n",
       "      <td>6.000000</td>\n",
       "      <td>891.000000</td>\n",
       "      <td>8.000000</td>\n",
       "      <td>1.000000</td>\n",
       "    </tr>\n",
       "  </tbody>\n",
       "</table>\n",
       "</div>"
      ],
      "text/plain": [
       "                     Age        Fare       Parch  PassengerId       SibSp  \\\n",
       "Pclass                                                                      \n",
       "1      count  186.000000  216.000000  216.000000   216.000000  216.000000   \n",
       "       mean    38.233441   84.154687    0.356481   461.597222    0.416667   \n",
       "       std     14.802856   78.380373    0.693997   246.737616    0.611898   \n",
       "       min      0.920000    0.000000    0.000000     2.000000    0.000000   \n",
       "       25%     27.000000   30.923950    0.000000   270.750000    0.000000   \n",
       "       50%     37.000000   60.287500    0.000000   472.000000    0.000000   \n",
       "       75%     49.000000   93.500000    0.000000   670.500000    1.000000   \n",
       "       max     80.000000  512.329200    4.000000   890.000000    3.000000   \n",
       "2      count  173.000000  184.000000  184.000000   184.000000  184.000000   \n",
       "       mean    29.877630   20.662183    0.380435   445.956522    0.402174   \n",
       "       std     14.001077   13.417399    0.690963   250.852161    0.601633   \n",
       "       min      0.670000    0.000000    0.000000    10.000000    0.000000   \n",
       "       25%     23.000000   13.000000    0.000000   234.500000    0.000000   \n",
       "       50%     29.000000   14.250000    0.000000   435.500000    0.000000   \n",
       "       75%     36.000000   26.000000    1.000000   668.000000    1.000000   \n",
       "       max     70.000000   73.500000    3.000000   887.000000    3.000000   \n",
       "3      count  355.000000  491.000000  491.000000   491.000000  491.000000   \n",
       "       mean    25.140620   13.675550    0.393075   439.154786    0.615071   \n",
       "       std     12.495398   11.778142    0.888861   264.441453    1.374883   \n",
       "       min      0.420000    0.000000    0.000000     1.000000    0.000000   \n",
       "       25%     18.000000    7.750000    0.000000   200.000000    0.000000   \n",
       "       50%     24.000000    8.050000    0.000000   432.000000    0.000000   \n",
       "       75%     32.000000   15.500000    0.000000   666.500000    1.000000   \n",
       "       max     74.000000   69.550000    6.000000   891.000000    8.000000   \n",
       "\n",
       "                Survived  \n",
       "Pclass                    \n",
       "1      count  216.000000  \n",
       "       mean     0.629630  \n",
       "       std      0.484026  \n",
       "       min      0.000000  \n",
       "       25%      0.000000  \n",
       "       50%      1.000000  \n",
       "       75%      1.000000  \n",
       "       max      1.000000  \n",
       "2      count  184.000000  \n",
       "       mean     0.472826  \n",
       "       std      0.500623  \n",
       "       min      0.000000  \n",
       "       25%      0.000000  \n",
       "       50%      0.000000  \n",
       "       75%      1.000000  \n",
       "       max      1.000000  \n",
       "3      count  491.000000  \n",
       "       mean     0.242363  \n",
       "       std      0.428949  \n",
       "       min      0.000000  \n",
       "       25%      0.000000  \n",
       "       50%      0.000000  \n",
       "       75%      0.000000  \n",
       "       max      1.000000  "
      ]
     },
     "execution_count": 14,
     "metadata": {},
     "output_type": "execute_result"
    }
   ],
   "source": [
    "grouped_by_factors(data,'Pclass')"
   ]
  },
  {
   "cell_type": "markdown",
   "metadata": {},
   "source": [
    "Mean Fare of Class 1 was 84.15 dollars, Class 2 was 20.66 dollars and Class 3 was 13.67 dollars. Mean 'Survived' shows direct correlation to Pclass- Class 3(0.24), Class 2(0.47), Class 1(0.63)"
   ]
  },
  {
   "cell_type": "code",
   "execution_count": 90,
   "metadata": {
    "collapsed": false
   },
   "outputs": [
    {
     "data": {
      "image/png": "[encoded data removed]",
      "text/plain": [
       "<matplotlib.figure.Figure at 0xb0e2470>"
      ]
     },
     "metadata": {},
     "output_type": "display_data"
    }
   ],
   "source": [
    "sns.barplot(x=\"Pclass\", y=\"Survived\", data=data);"
   ]
  },
  {
   "cell_type": "markdown",
   "metadata": {},
   "source": [
    "####  Correlation of 'Survived' with Pclass and Sex"
   ]
  },
  {
   "cell_type": "code",
   "execution_count": 92,
   "metadata": {
    "collapsed": false
   },
   "outputs": [
    {
     "data": {
      "image/png": "[encoded data removed]",
      "text/plain": [
       "<matplotlib.figure.Figure at 0xabe0d30>"
      ]
     },
     "metadata": {},
     "output_type": "display_data"
    }
   ],
   "source": [
    "g = sns.lmplot(x=\"Pclass\", y=\"Survived\", col=\"Sex\", hue=\"Sex\", data=data, palette=pal, y_jitter=.02, logistic=True)"
   ]
  },
  {
   "cell_type": "markdown",
   "metadata": {},
   "source": [
    "Survived showed negative correlation with Pclass, passengers with higher Pclass had lower survival probability. Overall, Females show higher correlation to Pclass as compared to men"
   ]
  },
  {
   "cell_type": "markdown",
   "metadata": {},
   "source": [
    "### Understanding Parch/SibSp as a factor"
   ]
  },
  {
   "cell_type": "code",
   "execution_count": 16,
   "metadata": {
    "collapsed": false
   },
   "outputs": [
    {
     "name": "stdout",
     "output_type": "stream",
     "text": [
      "                    Age        Fare  PassengerId      Pclass       SibSp  \\\n",
      "Parch                                                                      \n",
      "0     count  521.000000  678.000000   678.000000  678.000000  678.000000   \n",
      "      mean    32.178503   25.586774   445.255162    2.321534    0.237463   \n",
      "      std     12.570448   41.878786   256.163557    0.836665    0.496321   \n",
      "      min      5.000000    0.000000     1.000000    1.000000    0.000000   \n",
      "      25%     22.000000    7.854200   224.250000    2.000000    0.000000   \n",
      "      50%     30.000000   10.500000   452.500000    3.000000    0.000000   \n",
      "      75%     39.000000   26.000000   665.750000    3.000000    0.000000   \n",
      "      max     80.000000  512.329200   891.000000    3.000000    3.000000   \n",
      "1     count  110.000000  118.000000   118.000000  118.000000  118.000000   \n",
      "      mean    24.422000   46.778180   465.110169    2.203390    1.084746   \n",
      "      std     18.283117   63.709430   260.613602    0.832659    1.144114   \n",
      "      min      0.420000    7.229200     8.000000    1.000000    0.000000   \n",
      "      25%      6.250000   17.212500   254.000000    1.000000    0.000000   \n",
      "      50%     23.000000   26.000000   448.000000    2.000000    1.000000   \n",
      "      75%     39.000000   39.687500   691.500000    3.000000    1.000000   \n",
      "      max     70.000000  512.329200   881.000000    3.000000    4.000000   \n",
      "2     count   68.000000   80.000000    80.000000   80.000000   80.000000   \n",
      "      mean    17.216912   64.337604   416.662500    2.275000    2.062500   \n",
      "      std     13.193924   65.993088   256.432237    0.856472    2.451265   \n",
      "      min      0.830000    7.750000     9.000000    1.000000    0.000000   \n",
      "      25%      5.750000   26.000000   182.500000    1.000000    0.000000   \n",
      "      50%     16.500000   32.881250   406.500000    3.000000    1.000000   \n",
      "      75%     25.000000   69.550000   610.750000    3.000000    4.000000   \n",
      "      max     58.000000  263.000000   889.000000    3.000000    8.000000   \n",
      "3     count    5.000000    5.000000     5.000000    5.000000    5.000000   \n",
      "      mean    33.200000   25.951660   579.200000    2.600000    1.000000   \n",
      "      std     16.709279    7.862611   317.696711    0.547723    0.707107   \n",
      "      min     16.000000   18.750000    87.000000    2.000000    0.000000   \n",
      "      25%     24.000000   19.258300   438.000000    2.000000    1.000000   \n",
      "      50%     24.000000   23.000000   737.000000    3.000000    1.000000   \n",
      "      75%     48.000000   34.375000   775.000000    3.000000    1.000000   \n",
      "      max     54.000000   34.375000   859.000000    3.000000    2.000000   \n",
      "4     count    4.000000    4.000000     4.000000    4.000000    4.000000   \n",
      "      mean    44.500000   84.968750   384.000000    2.500000    0.750000   \n",
      "      std     14.617341  118.731099   167.397730    1.000000    0.500000   \n",
      "      min     29.000000   21.075000   168.000000    1.000000    0.000000   \n",
      "      25%     37.250000   26.193750   312.750000    2.500000    0.750000   \n",
      "      50%     42.500000   27.900000   400.000000    3.000000    1.000000   \n",
      "      75%     49.750000   86.675000   471.250000    3.000000    1.000000   \n",
      "      max     64.000000  263.000000   568.000000    3.000000    1.000000   \n",
      "5     count    5.000000    5.000000     5.000000    5.000000    5.000000   \n",
      "      mean    39.200000   32.550000   435.200000    3.000000    0.600000   \n",
      "      std      1.095445    4.101134   393.863809    0.000000    0.547723   \n",
      "      min     38.000000   29.125000    14.000000    3.000000    0.000000   \n",
      "      25%     39.000000   31.275000    26.000000    3.000000    0.000000   \n",
      "      50%     39.000000   31.275000   611.000000    3.000000    1.000000   \n",
      "      75%     39.000000   31.387500   639.000000    3.000000    1.000000   \n",
      "      max     41.000000   39.687500   886.000000    3.000000    1.000000   \n",
      "6     count    1.000000    1.000000     1.000000    1.000000    1.000000   \n",
      "      mean    43.000000   46.900000   679.000000    3.000000    1.000000   \n",
      "      std           NaN         NaN          NaN         NaN         NaN   \n",
      "      min     43.000000   46.900000   679.000000    3.000000    1.000000   \n",
      "      25%     43.000000   46.900000   679.000000    3.000000    1.000000   \n",
      "      50%     43.000000   46.900000   679.000000    3.000000    1.000000   \n",
      "      75%     43.000000   46.900000   679.000000    3.000000    1.000000   \n",
      "      max     43.000000   46.900000   679.000000    3.000000    1.000000   \n",
      "\n",
      "               Survived  \n",
      "Parch                    \n",
      "0     count  678.000000  \n",
      "      mean     0.343658  \n",
      "      std      0.475279  \n",
      "      min      0.000000  \n",
      "      25%      0.000000  \n",
      "      50%      0.000000  \n",
      "      75%      1.000000  \n",
      "      max      1.000000  \n",
      "1     count  118.000000  \n",
      "      mean     0.550847  \n",
      "      std      0.499529  \n",
      "      min      0.000000  \n",
      "      25%      0.000000  \n",
      "      50%      1.000000  \n",
      "      75%      1.000000  \n",
      "      max      1.000000  \n",
      "2     count   80.000000  \n",
      "      mean     0.500000  \n",
      "      std      0.503155  \n",
      "      min      0.000000  \n",
      "      25%      0.000000  \n",
      "      50%      0.500000  \n",
      "      75%      1.000000  \n",
      "      max      1.000000  \n",
      "3     count    5.000000  \n",
      "      mean     0.600000  \n",
      "      std      0.547723  \n",
      "      min      0.000000  \n",
      "      25%      0.000000  \n",
      "      50%      1.000000  \n",
      "      75%      1.000000  \n",
      "      max      1.000000  \n",
      "4     count    4.000000  \n",
      "      mean     0.000000  \n",
      "      std      0.000000  \n",
      "      min      0.000000  \n",
      "      25%      0.000000  \n",
      "      50%      0.000000  \n",
      "      75%      0.000000  \n",
      "      max      0.000000  \n",
      "5     count    5.000000  \n",
      "      mean     0.200000  \n",
      "      std      0.447214  \n",
      "      min      0.000000  \n",
      "      25%      0.000000  \n",
      "      50%      0.000000  \n",
      "      75%      0.000000  \n",
      "      max      1.000000  \n",
      "6     count    1.000000  \n",
      "      mean     0.000000  \n",
      "      std           NaN  \n",
      "      min      0.000000  \n",
      "      25%      0.000000  \n",
      "      50%      0.000000  \n",
      "      75%      0.000000  \n",
      "      max      0.000000  \n",
      "                    Age        Fare       Parch  PassengerId      Pclass  \\\n",
      "SibSp                                                                      \n",
      "0     count  471.000000  608.000000  608.000000   608.000000  608.000000   \n",
      "      mean    31.397558   25.692028    0.185855   455.370066    2.351974   \n",
      "      std     13.647767   49.733052    0.585377   255.992322    0.824539   \n",
      "      min      0.420000    0.000000    0.000000     3.000000    1.000000   \n",
      "      25%     22.000000    7.795800    0.000000   232.750000    2.000000   \n",
      "      50%     29.000000    9.500000    0.000000   461.500000    3.000000   \n",
      "      75%     39.000000   26.000000    0.000000   678.500000    3.000000   \n",
      "      max     80.000000  512.329200    5.000000   891.000000    3.000000   \n",
      "1     count  183.000000  209.000000  209.000000   209.000000  209.000000   \n",
      "      mean    30.089727   44.147370    0.655502   439.727273    2.057416   \n",
      "      std     14.645033   40.380919    1.049716   255.953585    0.858529   \n",
      "      min      0.670000    6.495800    0.000000     1.000000    1.000000   \n",
      "      25%     20.000000   16.100000    0.000000   231.000000    1.000000   \n",
      "      50%     30.000000   26.000000    0.000000   436.000000    2.000000   \n",
      "      75%     39.000000   57.000000    1.000000   658.000000    3.000000   \n",
      "      max     70.000000  263.000000    6.000000   889.000000    3.000000   \n",
      "2     count   25.000000   28.000000   28.000000    28.000000   28.000000   \n",
      "      mean    22.620000   51.753718    0.642857   412.428571    2.357143   \n",
      "      std     14.679230   66.225403    0.869835   231.778699    0.780042   \n",
      "      min      0.750000    7.925000    0.000000    39.000000    1.000000   \n",
      "      25%     16.000000   18.562500    0.000000   230.500000    2.000000   \n",
      "      50%     23.000000   23.700000    0.000000   437.500000    3.000000   \n",
      "      75%     28.000000   56.984400    1.000000   605.500000    3.000000   \n",
      "      max     53.000000  262.375000    3.000000   861.000000    3.000000   \n",
      "3     count   12.000000   16.000000   16.000000    16.000000   16.000000   \n",
      "      mean    13.916667   68.908862    1.312500   321.562500    2.562500   \n",
      "      std     11.317391   96.355121    0.704154   274.489094    0.813941   \n",
      "      min      2.000000   15.850000    0.000000     8.000000    1.000000   \n",
      "      25%      3.750000   21.075000    1.000000    80.500000    2.750000   \n",
      "      50%      9.500000   25.466700    1.000000   286.000000    3.000000   \n",
      "      75%     23.250000   27.900000    2.000000   523.250000    3.000000   \n",
      "      max     33.000000  263.000000    2.000000   820.000000    3.000000   \n",
      "4     count   18.000000   18.000000   18.000000    18.000000   18.000000   \n",
      "      mean     7.055556   31.855556    1.500000   381.611111    3.000000   \n",
      "      std      4.880601    7.322546    0.514496   298.283351    0.000000   \n",
      "      min      1.000000    7.925000    1.000000    17.000000    3.000000   \n",
      "      25%      3.250000   29.662500    1.000000   166.750000    3.000000   \n",
      "      50%      6.500000   31.275000    1.500000   264.500000    3.000000   \n",
      "      75%      9.000000   37.612500    2.000000   651.000000    3.000000   \n",
      "      max     17.000000   39.687500    2.000000   851.000000    3.000000   \n",
      "5     count    5.000000    5.000000    5.000000     5.000000    5.000000   \n",
      "      mean    10.200000   46.900000    2.000000   336.800000    3.000000   \n",
      "      std      5.805170    0.000000    0.000000   269.536083    0.000000   \n",
      "      min      1.000000   46.900000    2.000000    60.000000    3.000000   \n",
      "      25%      9.000000   46.900000    2.000000    72.000000    3.000000   \n",
      "      50%     11.000000   46.900000    2.000000   387.000000    3.000000   \n",
      "      75%     14.000000   46.900000    2.000000   481.000000    3.000000   \n",
      "      max     16.000000   46.900000    2.000000   684.000000    3.000000   \n",
      "8     count    0.000000    7.000000    7.000000     7.000000    7.000000   \n",
      "      mean          NaN   69.550000    2.000000   481.714286    3.000000   \n",
      "      std           NaN    0.000000    0.000000   334.963537    0.000000   \n",
      "      min           NaN   69.550000    2.000000   160.000000    3.000000   \n",
      "      25%           NaN   69.550000    2.000000   191.500000    3.000000   \n",
      "      50%           NaN   69.550000    2.000000   325.000000    3.000000   \n",
      "      75%           NaN   69.550000    2.000000   820.000000    3.000000   \n",
      "      max           NaN   69.550000    2.000000   864.000000    3.000000   \n",
      "\n",
      "               Survived  \n",
      "SibSp                    \n",
      "0     count  608.000000  \n",
      "      mean     0.345395  \n",
      "      std      0.475888  \n",
      "      min      0.000000  \n",
      "      25%      0.000000  \n",
      "      50%      0.000000  \n",
      "      75%      1.000000  \n",
      "      max      1.000000  \n",
      "1     count  209.000000  \n",
      "      mean     0.535885  \n",
      "      std      0.499908  \n",
      "      min      0.000000  \n",
      "      25%      0.000000  \n",
      "      50%      1.000000  \n",
      "      75%      1.000000  \n",
      "      max      1.000000  \n",
      "2     count   28.000000  \n",
      "      mean     0.464286  \n",
      "      std      0.507875  \n",
      "      min      0.000000  \n",
      "      25%      0.000000  \n",
      "      50%      0.000000  \n",
      "      75%      1.000000  \n",
      "      max      1.000000  \n",
      "3     count   16.000000  \n",
      "      mean     0.250000  \n",
      "      std      0.447214  \n",
      "      min      0.000000  \n",
      "      25%      0.000000  \n",
      "      50%      0.000000  \n",
      "      75%      0.250000  \n",
      "      max      1.000000  \n",
      "4     count   18.000000  \n",
      "      mean     0.166667  \n",
      "      std      0.383482  \n",
      "      min      0.000000  \n",
      "      25%      0.000000  \n",
      "      50%      0.000000  \n",
      "      75%      0.000000  \n",
      "      max      1.000000  \n",
      "5     count    5.000000  \n",
      "      mean     0.000000  \n",
      "      std      0.000000  \n",
      "      min      0.000000  \n",
      "      25%      0.000000  \n",
      "      50%      0.000000  \n",
      "      75%      0.000000  \n",
      "      max      0.000000  \n",
      "8     count    7.000000  \n",
      "      mean     0.000000  \n",
      "      std      0.000000  \n",
      "      min      0.000000  \n",
      "      25%      0.000000  \n",
      "      50%      0.000000  \n",
      "      75%      0.000000  \n",
      "      max      0.000000  \n"
     ]
    }
   ],
   "source": [
    "print(grouped_by_factors(data,'Parch'))\n",
    "print(grouped_by_factors(data,'SibSp'))"
   ]
  },
  {
   "cell_type": "markdown",
   "metadata": {},
   "source": [
    "#### 'Survived' by SibSp/Parch"
   ]
  },
  {
   "cell_type": "code",
   "execution_count": 17,
   "metadata": {
    "collapsed": false
   },
   "outputs": [
    {
     "data": {
      "text/plain": [
       "<seaborn.axisgrid.FacetGrid at 0x884df90>"
      ]
     },
     "execution_count": 17,
     "metadata": {},
     "output_type": "execute_result"
    },
    {
     "data": {
      "image/png": "[encoded data removed]",
      "text/plain": [
       "<matplotlib.figure.Figure at 0x885bfd0>"
      ]
     },
     "metadata": {},
     "output_type": "display_data"
    },
    {
     "data": {
      "image/png": "[encoded data removed]",
      "text/plain": [
       "<matplotlib.figure.Figure at 0x88eb750>"
      ]
     },
     "metadata": {},
     "output_type": "display_data"
    }
   ],
   "source": [
    "sns.factorplot(\"SibSp\", y=\"Survived\", data=data, kind=\"box\")\n",
    "sns.factorplot(\"Parch\", y=\"Survived\", data=data, kind=\"box\")"
   ]
  },
  {
   "cell_type": "markdown",
   "metadata": {},
   "source": [
    "Mean Survival rate for Sibling/spouse or parent/children doesn't show correlation with number of siblings/children etc. I will investigate now if having a parent or sibling affected survival irresective of the number of siblings/children/parents or spouse"
   ]
  },
  {
   "cell_type": "code",
   "execution_count": 18,
   "metadata": {
    "collapsed": true
   },
   "outputs": [],
   "source": [
    "data.loc[data['SibSp'] == 0, 'SibSp_y_n'] = False\n",
    "data.loc[data['SibSp'] >0, 'SibSp_y_n'] = True\n",
    "data.loc[data['Parch'] == 0, 'Parch_y_n'] = False\n",
    "data.loc[data['Parch'] >0, 'Parch_y_n'] = True"
   ]
  },
  {
   "cell_type": "markdown",
   "metadata": {},
   "source": [
    "I created a new columns SibSp_y_n and Parch_y_n to indicate 'True' if passenger had any number of sibling/parent/child/spouse and 'False' otherwise."
   ]
  },
  {
   "cell_type": "code",
   "execution_count": 19,
   "metadata": {
    "collapsed": false
   },
   "outputs": [
    {
     "data": {
      "text/html": [
       "<div>\n",
       "<table border=\"1\" class=\"dataframe\">\n",
       "  <thead>\n",
       "    <tr style=\"text-align: right;\">\n",
       "      <th></th>\n",
       "      <th></th>\n",
       "      <th>Age</th>\n",
       "      <th>Fare</th>\n",
       "      <th>Parch</th>\n",
       "      <th>PassengerId</th>\n",
       "      <th>Pclass</th>\n",
       "      <th>SibSp</th>\n",
       "      <th>Survived</th>\n",
       "    </tr>\n",
       "    <tr>\n",
       "      <th>SibSp_y_n</th>\n",
       "      <th></th>\n",
       "      <th></th>\n",
       "      <th></th>\n",
       "      <th></th>\n",
       "      <th></th>\n",
       "      <th></th>\n",
       "      <th></th>\n",
       "      <th></th>\n",
       "    </tr>\n",
       "  </thead>\n",
       "  <tbody>\n",
       "    <tr>\n",
       "      <th rowspan=\"8\" valign=\"top\">False</th>\n",
       "      <th>count</th>\n",
       "      <td>471.000000</td>\n",
       "      <td>608.000000</td>\n",
       "      <td>608.000000</td>\n",
       "      <td>608.000000</td>\n",
       "      <td>608.000000</td>\n",
       "      <td>608.000000</td>\n",
       "      <td>608.000000</td>\n",
       "    </tr>\n",
       "    <tr>\n",
       "      <th>mean</th>\n",
       "      <td>31.397558</td>\n",
       "      <td>25.692028</td>\n",
       "      <td>0.185855</td>\n",
       "      <td>455.370066</td>\n",
       "      <td>2.351974</td>\n",
       "      <td>0.000000</td>\n",
       "      <td>0.345395</td>\n",
       "    </tr>\n",
       "    <tr>\n",
       "      <th>std</th>\n",
       "      <td>13.647767</td>\n",
       "      <td>49.733052</td>\n",
       "      <td>0.585377</td>\n",
       "      <td>255.992322</td>\n",
       "      <td>0.824539</td>\n",
       "      <td>0.000000</td>\n",
       "      <td>0.475888</td>\n",
       "    </tr>\n",
       "    <tr>\n",
       "      <th>min</th>\n",
       "      <td>0.420000</td>\n",
       "      <td>0.000000</td>\n",
       "      <td>0.000000</td>\n",
       "      <td>3.000000</td>\n",
       "      <td>1.000000</td>\n",
       "      <td>0.000000</td>\n",
       "      <td>0.000000</td>\n",
       "    </tr>\n",
       "    <tr>\n",
       "      <th>25%</th>\n",
       "      <td>22.000000</td>\n",
       "      <td>7.795800</td>\n",
       "      <td>0.000000</td>\n",
       "      <td>232.750000</td>\n",
       "      <td>2.000000</td>\n",
       "      <td>0.000000</td>\n",
       "      <td>0.000000</td>\n",
       "    </tr>\n",
       "    <tr>\n",
       "      <th>50%</th>\n",
       "      <td>29.000000</td>\n",
       "      <td>9.500000</td>\n",
       "      <td>0.000000</td>\n",
       "      <td>461.500000</td>\n",
       "      <td>3.000000</td>\n",
       "      <td>0.000000</td>\n",
       "      <td>0.000000</td>\n",
       "    </tr>\n",
       "    <tr>\n",
       "      <th>75%</th>\n",
       "      <td>39.000000</td>\n",
       "      <td>26.000000</td>\n",
       "      <td>0.000000</td>\n",
       "      <td>678.500000</td>\n",
       "      <td>3.000000</td>\n",
       "      <td>0.000000</td>\n",
       "      <td>1.000000</td>\n",
       "    </tr>\n",
       "    <tr>\n",
       "      <th>max</th>\n",
       "      <td>80.000000</td>\n",
       "      <td>512.329200</td>\n",
       "      <td>5.000000</td>\n",
       "      <td>891.000000</td>\n",
       "      <td>3.000000</td>\n",
       "      <td>0.000000</td>\n",
       "      <td>1.000000</td>\n",
       "    </tr>\n",
       "    <tr>\n",
       "      <th rowspan=\"8\" valign=\"top\">True</th>\n",
       "      <th>count</th>\n",
       "      <td>243.000000</td>\n",
       "      <td>283.000000</td>\n",
       "      <td>283.000000</td>\n",
       "      <td>283.000000</td>\n",
       "      <td>283.000000</td>\n",
       "      <td>283.000000</td>\n",
       "      <td>283.000000</td>\n",
       "    </tr>\n",
       "    <tr>\n",
       "      <th>mean</th>\n",
       "      <td>26.407078</td>\n",
       "      <td>46.195040</td>\n",
       "      <td>0.802120</td>\n",
       "      <td>425.869258</td>\n",
       "      <td>2.215548</td>\n",
       "      <td>1.646643</td>\n",
       "      <td>0.466431</td>\n",
       "    </tr>\n",
       "    <tr>\n",
       "      <th>std</th>\n",
       "      <td>15.603758</td>\n",
       "      <td>46.710196</td>\n",
       "      <td>1.026111</td>\n",
       "      <td>259.565637</td>\n",
       "      <td>0.854383</td>\n",
       "      <td>1.407508</td>\n",
       "      <td>0.499756</td>\n",
       "    </tr>\n",
       "    <tr>\n",
       "      <th>min</th>\n",
       "      <td>0.670000</td>\n",
       "      <td>6.495800</td>\n",
       "      <td>0.000000</td>\n",
       "      <td>1.000000</td>\n",
       "      <td>1.000000</td>\n",
       "      <td>1.000000</td>\n",
       "      <td>0.000000</td>\n",
       "    </tr>\n",
       "    <tr>\n",
       "      <th>25%</th>\n",
       "      <td>16.000000</td>\n",
       "      <td>18.375000</td>\n",
       "      <td>0.000000</td>\n",
       "      <td>193.500000</td>\n",
       "      <td>1.000000</td>\n",
       "      <td>1.000000</td>\n",
       "      <td>0.000000</td>\n",
       "    </tr>\n",
       "    <tr>\n",
       "      <th>50%</th>\n",
       "      <td>26.000000</td>\n",
       "      <td>27.900000</td>\n",
       "      <td>1.000000</td>\n",
       "      <td>425.000000</td>\n",
       "      <td>2.000000</td>\n",
       "      <td>1.000000</td>\n",
       "      <td>0.000000</td>\n",
       "    </tr>\n",
       "    <tr>\n",
       "      <th>75%</th>\n",
       "      <td>37.000000</td>\n",
       "      <td>56.964600</td>\n",
       "      <td>1.000000</td>\n",
       "      <td>644.000000</td>\n",
       "      <td>3.000000</td>\n",
       "      <td>2.000000</td>\n",
       "      <td>1.000000</td>\n",
       "    </tr>\n",
       "    <tr>\n",
       "      <th>max</th>\n",
       "      <td>70.000000</td>\n",
       "      <td>263.000000</td>\n",
       "      <td>6.000000</td>\n",
       "      <td>889.000000</td>\n",
       "      <td>3.000000</td>\n",
       "      <td>8.000000</td>\n",
       "      <td>1.000000</td>\n",
       "    </tr>\n",
       "  </tbody>\n",
       "</table>\n",
       "</div>"
      ],
      "text/plain": [
       "                        Age        Fare       Parch  PassengerId      Pclass  \\\n",
       "SibSp_y_n                                                                      \n",
       "False     count  471.000000  608.000000  608.000000   608.000000  608.000000   \n",
       "          mean    31.397558   25.692028    0.185855   455.370066    2.351974   \n",
       "          std     13.647767   49.733052    0.585377   255.992322    0.824539   \n",
       "          min      0.420000    0.000000    0.000000     3.000000    1.000000   \n",
       "          25%     22.000000    7.795800    0.000000   232.750000    2.000000   \n",
       "          50%     29.000000    9.500000    0.000000   461.500000    3.000000   \n",
       "          75%     39.000000   26.000000    0.000000   678.500000    3.000000   \n",
       "          max     80.000000  512.329200    5.000000   891.000000    3.000000   \n",
       "True      count  243.000000  283.000000  283.000000   283.000000  283.000000   \n",
       "          mean    26.407078   46.195040    0.802120   425.869258    2.215548   \n",
       "          std     15.603758   46.710196    1.026111   259.565637    0.854383   \n",
       "          min      0.670000    6.495800    0.000000     1.000000    1.000000   \n",
       "          25%     16.000000   18.375000    0.000000   193.500000    1.000000   \n",
       "          50%     26.000000   27.900000    1.000000   425.000000    2.000000   \n",
       "          75%     37.000000   56.964600    1.000000   644.000000    3.000000   \n",
       "          max     70.000000  263.000000    6.000000   889.000000    3.000000   \n",
       "\n",
       "                      SibSp    Survived  \n",
       "SibSp_y_n                                \n",
       "False     count  608.000000  608.000000  \n",
       "          mean     0.000000    0.345395  \n",
       "          std      0.000000    0.475888  \n",
       "          min      0.000000    0.000000  \n",
       "          25%      0.000000    0.000000  \n",
       "          50%      0.000000    0.000000  \n",
       "          75%      0.000000    1.000000  \n",
       "          max      0.000000    1.000000  \n",
       "True      count  283.000000  283.000000  \n",
       "          mean     1.646643    0.466431  \n",
       "          std      1.407508    0.499756  \n",
       "          min      1.000000    0.000000  \n",
       "          25%      1.000000    0.000000  \n",
       "          50%      1.000000    0.000000  \n",
       "          75%      2.000000    1.000000  \n",
       "          max      8.000000    1.000000  "
      ]
     },
     "execution_count": 19,
     "metadata": {},
     "output_type": "execute_result"
    }
   ],
   "source": [
    "grouped_by_factors(data,'SibSp_y_n')"
   ]
  },
  {
   "cell_type": "code",
   "execution_count": 20,
   "metadata": {
    "collapsed": false
   },
   "outputs": [
    {
     "data": {
      "text/html": [
       "<div>\n",
       "<table border=\"1\" class=\"dataframe\">\n",
       "  <thead>\n",
       "    <tr style=\"text-align: right;\">\n",
       "      <th></th>\n",
       "      <th></th>\n",
       "      <th>Age</th>\n",
       "      <th>Fare</th>\n",
       "      <th>Parch</th>\n",
       "      <th>PassengerId</th>\n",
       "      <th>Pclass</th>\n",
       "      <th>SibSp</th>\n",
       "      <th>Survived</th>\n",
       "    </tr>\n",
       "    <tr>\n",
       "      <th>Parch_y_n</th>\n",
       "      <th></th>\n",
       "      <th></th>\n",
       "      <th></th>\n",
       "      <th></th>\n",
       "      <th></th>\n",
       "      <th></th>\n",
       "      <th></th>\n",
       "      <th></th>\n",
       "    </tr>\n",
       "  </thead>\n",
       "  <tbody>\n",
       "    <tr>\n",
       "      <th rowspan=\"8\" valign=\"top\">False</th>\n",
       "      <th>count</th>\n",
       "      <td>521.000000</td>\n",
       "      <td>678.000000</td>\n",
       "      <td>678.000000</td>\n",
       "      <td>678.000000</td>\n",
       "      <td>678.000000</td>\n",
       "      <td>678.000000</td>\n",
       "      <td>678.000000</td>\n",
       "    </tr>\n",
       "    <tr>\n",
       "      <th>mean</th>\n",
       "      <td>32.178503</td>\n",
       "      <td>25.586774</td>\n",
       "      <td>0.000000</td>\n",
       "      <td>445.255162</td>\n",
       "      <td>2.321534</td>\n",
       "      <td>0.237463</td>\n",
       "      <td>0.343658</td>\n",
       "    </tr>\n",
       "    <tr>\n",
       "      <th>std</th>\n",
       "      <td>12.570448</td>\n",
       "      <td>41.878786</td>\n",
       "      <td>0.000000</td>\n",
       "      <td>256.163557</td>\n",
       "      <td>0.836665</td>\n",
       "      <td>0.496321</td>\n",
       "      <td>0.475279</td>\n",
       "    </tr>\n",
       "    <tr>\n",
       "      <th>min</th>\n",
       "      <td>5.000000</td>\n",
       "      <td>0.000000</td>\n",
       "      <td>0.000000</td>\n",
       "      <td>1.000000</td>\n",
       "      <td>1.000000</td>\n",
       "      <td>0.000000</td>\n",
       "      <td>0.000000</td>\n",
       "    </tr>\n",
       "    <tr>\n",
       "      <th>25%</th>\n",
       "      <td>22.000000</td>\n",
       "      <td>7.854200</td>\n",
       "      <td>0.000000</td>\n",
       "      <td>224.250000</td>\n",
       "      <td>2.000000</td>\n",
       "      <td>0.000000</td>\n",
       "      <td>0.000000</td>\n",
       "    </tr>\n",
       "    <tr>\n",
       "      <th>50%</th>\n",
       "      <td>30.000000</td>\n",
       "      <td>10.500000</td>\n",
       "      <td>0.000000</td>\n",
       "      <td>452.500000</td>\n",
       "      <td>3.000000</td>\n",
       "      <td>0.000000</td>\n",
       "      <td>0.000000</td>\n",
       "    </tr>\n",
       "    <tr>\n",
       "      <th>75%</th>\n",
       "      <td>39.000000</td>\n",
       "      <td>26.000000</td>\n",
       "      <td>0.000000</td>\n",
       "      <td>665.750000</td>\n",
       "      <td>3.000000</td>\n",
       "      <td>0.000000</td>\n",
       "      <td>1.000000</td>\n",
       "    </tr>\n",
       "    <tr>\n",
       "      <th>max</th>\n",
       "      <td>80.000000</td>\n",
       "      <td>512.329200</td>\n",
       "      <td>0.000000</td>\n",
       "      <td>891.000000</td>\n",
       "      <td>3.000000</td>\n",
       "      <td>3.000000</td>\n",
       "      <td>1.000000</td>\n",
       "    </tr>\n",
       "    <tr>\n",
       "      <th rowspan=\"8\" valign=\"top\">True</th>\n",
       "      <th>count</th>\n",
       "      <td>193.000000</td>\n",
       "      <td>213.000000</td>\n",
       "      <td>213.000000</td>\n",
       "      <td>213.000000</td>\n",
       "      <td>213.000000</td>\n",
       "      <td>213.000000</td>\n",
       "      <td>213.000000</td>\n",
       "    </tr>\n",
       "    <tr>\n",
       "      <th>mean</th>\n",
       "      <td>23.006062</td>\n",
       "      <td>53.268154</td>\n",
       "      <td>1.596244</td>\n",
       "      <td>448.370892</td>\n",
       "      <td>2.267606</td>\n",
       "      <td>1.431925</td>\n",
       "      <td>0.511737</td>\n",
       "    </tr>\n",
       "    <tr>\n",
       "      <th>std</th>\n",
       "      <td>17.145160</td>\n",
       "      <td>64.656501</td>\n",
       "      <td>0.882954</td>\n",
       "      <td>261.701920</td>\n",
       "      <td>0.834816</td>\n",
       "      <td>1.796568</td>\n",
       "      <td>0.501040</td>\n",
       "    </tr>\n",
       "    <tr>\n",
       "      <th>min</th>\n",
       "      <td>0.420000</td>\n",
       "      <td>7.229200</td>\n",
       "      <td>1.000000</td>\n",
       "      <td>8.000000</td>\n",
       "      <td>1.000000</td>\n",
       "      <td>0.000000</td>\n",
       "      <td>0.000000</td>\n",
       "    </tr>\n",
       "    <tr>\n",
       "      <th>25%</th>\n",
       "      <td>7.000000</td>\n",
       "      <td>20.525000</td>\n",
       "      <td>1.000000</td>\n",
       "      <td>206.000000</td>\n",
       "      <td>2.000000</td>\n",
       "      <td>0.000000</td>\n",
       "      <td>0.000000</td>\n",
       "    </tr>\n",
       "    <tr>\n",
       "      <th>50%</th>\n",
       "      <td>22.000000</td>\n",
       "      <td>29.125000</td>\n",
       "      <td>1.000000</td>\n",
       "      <td>438.000000</td>\n",
       "      <td>3.000000</td>\n",
       "      <td>1.000000</td>\n",
       "      <td>1.000000</td>\n",
       "    </tr>\n",
       "    <tr>\n",
       "      <th>75%</th>\n",
       "      <td>36.000000</td>\n",
       "      <td>57.979200</td>\n",
       "      <td>2.000000</td>\n",
       "      <td>680.000000</td>\n",
       "      <td>3.000000</td>\n",
       "      <td>2.000000</td>\n",
       "      <td>1.000000</td>\n",
       "    </tr>\n",
       "    <tr>\n",
       "      <th>max</th>\n",
       "      <td>70.000000</td>\n",
       "      <td>512.329200</td>\n",
       "      <td>6.000000</td>\n",
       "      <td>889.000000</td>\n",
       "      <td>3.000000</td>\n",
       "      <td>8.000000</td>\n",
       "      <td>1.000000</td>\n",
       "    </tr>\n",
       "  </tbody>\n",
       "</table>\n",
       "</div>"
      ],
      "text/plain": [
       "                        Age        Fare       Parch  PassengerId      Pclass  \\\n",
       "Parch_y_n                                                                      \n",
       "False     count  521.000000  678.000000  678.000000   678.000000  678.000000   \n",
       "          mean    32.178503   25.586774    0.000000   445.255162    2.321534   \n",
       "          std     12.570448   41.878786    0.000000   256.163557    0.836665   \n",
       "          min      5.000000    0.000000    0.000000     1.000000    1.000000   \n",
       "          25%     22.000000    7.854200    0.000000   224.250000    2.000000   \n",
       "          50%     30.000000   10.500000    0.000000   452.500000    3.000000   \n",
       "          75%     39.000000   26.000000    0.000000   665.750000    3.000000   \n",
       "          max     80.000000  512.329200    0.000000   891.000000    3.000000   \n",
       "True      count  193.000000  213.000000  213.000000   213.000000  213.000000   \n",
       "          mean    23.006062   53.268154    1.596244   448.370892    2.267606   \n",
       "          std     17.145160   64.656501    0.882954   261.701920    0.834816   \n",
       "          min      0.420000    7.229200    1.000000     8.000000    1.000000   \n",
       "          25%      7.000000   20.525000    1.000000   206.000000    2.000000   \n",
       "          50%     22.000000   29.125000    1.000000   438.000000    3.000000   \n",
       "          75%     36.000000   57.979200    2.000000   680.000000    3.000000   \n",
       "          max     70.000000  512.329200    6.000000   889.000000    3.000000   \n",
       "\n",
       "                      SibSp    Survived  \n",
       "Parch_y_n                                \n",
       "False     count  678.000000  678.000000  \n",
       "          mean     0.237463    0.343658  \n",
       "          std      0.496321    0.475279  \n",
       "          min      0.000000    0.000000  \n",
       "          25%      0.000000    0.000000  \n",
       "          50%      0.000000    0.000000  \n",
       "          75%      0.000000    1.000000  \n",
       "          max      3.000000    1.000000  \n",
       "True      count  213.000000  213.000000  \n",
       "          mean     1.431925    0.511737  \n",
       "          std      1.796568    0.501040  \n",
       "          min      0.000000    0.000000  \n",
       "          25%      0.000000    0.000000  \n",
       "          50%      1.000000    1.000000  \n",
       "          75%      2.000000    1.000000  \n",
       "          max      8.000000    1.000000  "
      ]
     },
     "execution_count": 20,
     "metadata": {},
     "output_type": "execute_result"
    }
   ],
   "source": [
    "grouped_by_factors(data,'Parch_y_n')"
   ]
  },
  {
   "cell_type": "markdown",
   "metadata": {},
   "source": [
    "Looking at the means, having a parent or child(0.511737) would increase probability of survival more than having a sibling or a spouse(0.466431). I combined the results from the two columns into new column SibSp_Parch which is True if either SibSp_y_n or Parch_y_n was True"
   ]
  },
  {
   "cell_type": "code",
   "execution_count": 21,
   "metadata": {
    "collapsed": false
   },
   "outputs": [],
   "source": [
    "data['SibSp_Parch'] = np.logical_or(data['SibSp_y_n'], data['Parch_y_n'])"
   ]
  },
  {
   "cell_type": "code",
   "execution_count": 22,
   "metadata": {
    "collapsed": false
   },
   "outputs": [
    {
     "data": {
      "text/html": [
       "<div>\n",
       "<table border=\"1\" class=\"dataframe\">\n",
       "  <thead>\n",
       "    <tr style=\"text-align: right;\">\n",
       "      <th></th>\n",
       "      <th></th>\n",
       "      <th>Age</th>\n",
       "      <th>Fare</th>\n",
       "      <th>Parch</th>\n",
       "      <th>PassengerId</th>\n",
       "      <th>Pclass</th>\n",
       "      <th>SibSp</th>\n",
       "      <th>Survived</th>\n",
       "    </tr>\n",
       "    <tr>\n",
       "      <th>SibSp_Parch</th>\n",
       "      <th></th>\n",
       "      <th></th>\n",
       "      <th></th>\n",
       "      <th></th>\n",
       "      <th></th>\n",
       "      <th></th>\n",
       "      <th></th>\n",
       "      <th></th>\n",
       "    </tr>\n",
       "  </thead>\n",
       "  <tbody>\n",
       "    <tr>\n",
       "      <th rowspan=\"8\" valign=\"top\">False</th>\n",
       "      <th>count</th>\n",
       "      <td>404.000000</td>\n",
       "      <td>537.000000</td>\n",
       "      <td>537.000000</td>\n",
       "      <td>537.000000</td>\n",
       "      <td>537.000000</td>\n",
       "      <td>537.000000</td>\n",
       "      <td>537.000000</td>\n",
       "    </tr>\n",
       "    <tr>\n",
       "      <th>mean</th>\n",
       "      <td>32.220297</td>\n",
       "      <td>21.242689</td>\n",
       "      <td>0.000000</td>\n",
       "      <td>458.000000</td>\n",
       "      <td>2.400372</td>\n",
       "      <td>0.000000</td>\n",
       "      <td>0.303538</td>\n",
       "    </tr>\n",
       "    <tr>\n",
       "      <th>std</th>\n",
       "      <td>12.899871</td>\n",
       "      <td>42.223510</td>\n",
       "      <td>0.000000</td>\n",
       "      <td>255.714174</td>\n",
       "      <td>0.804511</td>\n",
       "      <td>0.000000</td>\n",
       "      <td>0.460214</td>\n",
       "    </tr>\n",
       "    <tr>\n",
       "      <th>min</th>\n",
       "      <td>5.000000</td>\n",
       "      <td>0.000000</td>\n",
       "      <td>0.000000</td>\n",
       "      <td>3.000000</td>\n",
       "      <td>1.000000</td>\n",
       "      <td>0.000000</td>\n",
       "      <td>0.000000</td>\n",
       "    </tr>\n",
       "    <tr>\n",
       "      <th>25%</th>\n",
       "      <td>22.000000</td>\n",
       "      <td>7.775000</td>\n",
       "      <td>0.000000</td>\n",
       "      <td>235.000000</td>\n",
       "      <td>2.000000</td>\n",
       "      <td>0.000000</td>\n",
       "      <td>0.000000</td>\n",
       "    </tr>\n",
       "    <tr>\n",
       "      <th>50%</th>\n",
       "      <td>29.500000</td>\n",
       "      <td>8.137500</td>\n",
       "      <td>0.000000</td>\n",
       "      <td>466.000000</td>\n",
       "      <td>3.000000</td>\n",
       "      <td>0.000000</td>\n",
       "      <td>0.000000</td>\n",
       "    </tr>\n",
       "    <tr>\n",
       "      <th>75%</th>\n",
       "      <td>39.000000</td>\n",
       "      <td>15.000000</td>\n",
       "      <td>0.000000</td>\n",
       "      <td>681.000000</td>\n",
       "      <td>3.000000</td>\n",
       "      <td>0.000000</td>\n",
       "      <td>1.000000</td>\n",
       "    </tr>\n",
       "    <tr>\n",
       "      <th>max</th>\n",
       "      <td>80.000000</td>\n",
       "      <td>512.329200</td>\n",
       "      <td>0.000000</td>\n",
       "      <td>891.000000</td>\n",
       "      <td>3.000000</td>\n",
       "      <td>0.000000</td>\n",
       "      <td>1.000000</td>\n",
       "    </tr>\n",
       "    <tr>\n",
       "      <th rowspan=\"8\" valign=\"top\">True</th>\n",
       "      <th>count</th>\n",
       "      <td>310.000000</td>\n",
       "      <td>354.000000</td>\n",
       "      <td>354.000000</td>\n",
       "      <td>354.000000</td>\n",
       "      <td>354.000000</td>\n",
       "      <td>354.000000</td>\n",
       "      <td>354.000000</td>\n",
       "    </tr>\n",
       "    <tr>\n",
       "      <th>mean</th>\n",
       "      <td>26.413452</td>\n",
       "      <td>48.832275</td>\n",
       "      <td>0.960452</td>\n",
       "      <td>427.796610</td>\n",
       "      <td>2.169492</td>\n",
       "      <td>1.316384</td>\n",
       "      <td>0.505650</td>\n",
       "    </tr>\n",
       "    <tr>\n",
       "      <th>std</th>\n",
       "      <td>15.834923</td>\n",
       "      <td>55.307615</td>\n",
       "      <td>1.039512</td>\n",
       "      <td>259.122836</td>\n",
       "      <td>0.864520</td>\n",
       "      <td>1.420774</td>\n",
       "      <td>0.500676</td>\n",
       "    </tr>\n",
       "    <tr>\n",
       "      <th>min</th>\n",
       "      <td>0.420000</td>\n",
       "      <td>6.495800</td>\n",
       "      <td>0.000000</td>\n",
       "      <td>1.000000</td>\n",
       "      <td>1.000000</td>\n",
       "      <td>0.000000</td>\n",
       "      <td>0.000000</td>\n",
       "    </tr>\n",
       "    <tr>\n",
       "      <th>25%</th>\n",
       "      <td>16.000000</td>\n",
       "      <td>18.000000</td>\n",
       "      <td>0.000000</td>\n",
       "      <td>195.000000</td>\n",
       "      <td>1.000000</td>\n",
       "      <td>1.000000</td>\n",
       "      <td>0.000000</td>\n",
       "    </tr>\n",
       "    <tr>\n",
       "      <th>50%</th>\n",
       "      <td>26.000000</td>\n",
       "      <td>27.750000</td>\n",
       "      <td>1.000000</td>\n",
       "      <td>419.000000</td>\n",
       "      <td>2.000000</td>\n",
       "      <td>1.000000</td>\n",
       "      <td>1.000000</td>\n",
       "    </tr>\n",
       "    <tr>\n",
       "      <th>75%</th>\n",
       "      <td>37.000000</td>\n",
       "      <td>59.044800</td>\n",
       "      <td>2.000000</td>\n",
       "      <td>645.750000</td>\n",
       "      <td>3.000000</td>\n",
       "      <td>1.000000</td>\n",
       "      <td>1.000000</td>\n",
       "    </tr>\n",
       "    <tr>\n",
       "      <th>max</th>\n",
       "      <td>70.000000</td>\n",
       "      <td>512.329200</td>\n",
       "      <td>6.000000</td>\n",
       "      <td>889.000000</td>\n",
       "      <td>3.000000</td>\n",
       "      <td>8.000000</td>\n",
       "      <td>1.000000</td>\n",
       "    </tr>\n",
       "  </tbody>\n",
       "</table>\n",
       "</div>"
      ],
      "text/plain": [
       "                          Age        Fare       Parch  PassengerId  \\\n",
       "SibSp_Parch                                                          \n",
       "False       count  404.000000  537.000000  537.000000   537.000000   \n",
       "            mean    32.220297   21.242689    0.000000   458.000000   \n",
       "            std     12.899871   42.223510    0.000000   255.714174   \n",
       "            min      5.000000    0.000000    0.000000     3.000000   \n",
       "            25%     22.000000    7.775000    0.000000   235.000000   \n",
       "            50%     29.500000    8.137500    0.000000   466.000000   \n",
       "            75%     39.000000   15.000000    0.000000   681.000000   \n",
       "            max     80.000000  512.329200    0.000000   891.000000   \n",
       "True        count  310.000000  354.000000  354.000000   354.000000   \n",
       "            mean    26.413452   48.832275    0.960452   427.796610   \n",
       "            std     15.834923   55.307615    1.039512   259.122836   \n",
       "            min      0.420000    6.495800    0.000000     1.000000   \n",
       "            25%     16.000000   18.000000    0.000000   195.000000   \n",
       "            50%     26.000000   27.750000    1.000000   419.000000   \n",
       "            75%     37.000000   59.044800    2.000000   645.750000   \n",
       "            max     70.000000  512.329200    6.000000   889.000000   \n",
       "\n",
       "                       Pclass       SibSp    Survived  \n",
       "SibSp_Parch                                            \n",
       "False       count  537.000000  537.000000  537.000000  \n",
       "            mean     2.400372    0.000000    0.303538  \n",
       "            std      0.804511    0.000000    0.460214  \n",
       "            min      1.000000    0.000000    0.000000  \n",
       "            25%      2.000000    0.000000    0.000000  \n",
       "            50%      3.000000    0.000000    0.000000  \n",
       "            75%      3.000000    0.000000    1.000000  \n",
       "            max      3.000000    0.000000    1.000000  \n",
       "True        count  354.000000  354.000000  354.000000  \n",
       "            mean     2.169492    1.316384    0.505650  \n",
       "            std      0.864520    1.420774    0.500676  \n",
       "            min      1.000000    0.000000    0.000000  \n",
       "            25%      1.000000    1.000000    0.000000  \n",
       "            50%      2.000000    1.000000    1.000000  \n",
       "            75%      3.000000    1.000000    1.000000  \n",
       "            max      3.000000    8.000000    1.000000  "
      ]
     },
     "execution_count": 22,
     "metadata": {},
     "output_type": "execute_result"
    }
   ],
   "source": [
    "grouped_by_factors(data,'SibSp_Parch')"
   ]
  },
  {
   "cell_type": "markdown",
   "metadata": {},
   "source": [
    "#### 'Survived' by SibSp or Parch"
   ]
  },
  {
   "cell_type": "code",
   "execution_count": 23,
   "metadata": {
    "collapsed": false
   },
   "outputs": [
    {
     "data": {
      "image/png": "[encoded data removed]",
      "text/plain": [
       "<matplotlib.figure.Figure at 0x84363b0>"
      ]
     },
     "metadata": {},
     "output_type": "display_data"
    }
   ],
   "source": [
    "sns.barplot(x=\"SibSp_Parch\", y=\"Survived\", data=data);"
   ]
  },
  {
   "cell_type": "markdown",
   "metadata": {},
   "source": [
    "Having a sibling/spouse/parent or child would increase the mean survival from 0.303 to .505"
   ]
  },
  {
   "cell_type": "markdown",
   "metadata": {},
   "source": [
    "###  Understanding Age as a factor"
   ]
  },
  {
   "cell_type": "code",
   "execution_count": 24,
   "metadata": {
    "collapsed": false
   },
   "outputs": [
    {
     "name": "stdout",
     "output_type": "stream",
     "text": [
      "              Fare  Parch  PassengerId  Pclass  SibSp  Survived\n",
      "Age                                                            \n",
      "0.42 count  1.0000    1.0          1.0     1.0    1.0       1.0\n",
      "     mean   8.5167    1.0        804.0     3.0    0.0       1.0\n",
      "     std       NaN    NaN          NaN     NaN    NaN       NaN\n",
      "     min    8.5167    1.0        804.0     3.0    0.0       1.0\n",
      "     25%    8.5167    1.0        804.0     3.0    0.0       1.0\n",
      "          Fare  Parch  PassengerId  Pclass  SibSp  Survived\n",
      "Age                                                        \n",
      "80.0 min  30.0    0.0        631.0     1.0    0.0       1.0\n",
      "     25%  30.0    0.0        631.0     1.0    0.0       1.0\n",
      "     50%  30.0    0.0        631.0     1.0    0.0       1.0\n",
      "     75%  30.0    0.0        631.0     1.0    0.0       1.0\n",
      "     max  30.0    0.0        631.0     1.0    0.0       1.0\n"
     ]
    }
   ],
   "source": [
    "print(grouped_by_factors(data,'Age').head())\n",
    "print(grouped_by_factors(data,'Age').tail())"
   ]
  },
  {
   "cell_type": "code",
   "execution_count": 25,
   "metadata": {
    "collapsed": false
   },
   "outputs": [
    {
     "data": {
      "text/plain": [
       "<matplotlib.axes._subplots.AxesSubplot at 0x89e6ef0>"
      ]
     },
     "execution_count": 25,
     "metadata": {},
     "output_type": "execute_result"
    },
    {
     "data": {
      "image/png": "[encoded data removed]",
      "text/plain": [
       "<matplotlib.figure.Figure at 0x8a0ef90>"
      ]
     },
     "metadata": {},
     "output_type": "display_data"
    }
   ],
   "source": [
    "surv_age = data[data['Survived'] == 1]\n",
    "surv_age['Age'].plot(kind='hist', figsize=[12,6], alpha=.8)\n",
    "notsurv_age = data[data['Survived'] == 0]\n",
    "notsurv_age['Age'].plot(kind='hist', figsize=[12,6], alpha=.4)"
   ]
  },
  {
   "cell_type": "markdown",
   "metadata": {},
   "source": [
    "Age of the passengers ranged from 0 to 80 years. Green bar is for passengers who did not survive and the blue is for those who survived. The distribution is almost normal distribution with similar shape and mode around 20 years. Below is the correlation for Age vs mean survived, it shows slight negative correlation with pearson'r value of -0.077"
   ]
  },
  {
   "cell_type": "markdown",
   "metadata": {},
   "source": [
    "#### Correlation of 'Survived' with Age"
   ]
  },
  {
   "cell_type": "code",
   "execution_count": 26,
   "metadata": {
    "collapsed": false
   },
   "outputs": [
    {
     "data": {
      "image/png": "[encoded data removed]",
      "text/plain": [
       "<matplotlib.figure.Figure at 0x8a0e1f0>"
      ]
     },
     "metadata": {},
     "output_type": "display_data"
    }
   ],
   "source": [
    "sns.set(style=\"darkgrid\", color_codes=True)\n",
    "g = sns.jointplot(\"Age\", \"Survived\", data=data, kind=\"reg\",color=\"g\", size=7)"
   ]
  },
  {
   "cell_type": "markdown",
   "metadata": {},
   "source": [
    "#### Correlation of 'Survived' with Age and Sex"
   ]
  },
  {
   "cell_type": "code",
   "execution_count": 81,
   "metadata": {
    "collapsed": false
   },
   "outputs": [
    {
     "data": {
      "image/png": "[encoded data removed]",
      "text/plain": [
       "<matplotlib.figure.Figure at 0xad43110>"
      ]
     },
     "metadata": {},
     "output_type": "display_data"
    }
   ],
   "source": [
    "pal = dict(male=\"#6495ED\", female=\"#F08080\")\n",
    "g = sns.lmplot(x=\"Age\", y=\"Survived\", col=\"Sex\", hue=\"Sex\", data=data, palette=pal, y_jitter=.02, logistic=True)"
   ]
  },
  {
   "cell_type": "markdown",
   "metadata": {},
   "source": [
    "Survival probability was higher for Younger Men and Older Women"
   ]
  },
  {
   "cell_type": "code",
   "execution_count": 28,
   "metadata": {
    "collapsed": false
   },
   "outputs": [
    {
     "data": {
      "text/plain": [
       "<seaborn.axisgrid.FacetGrid at 0x8a93290>"
      ]
     },
     "execution_count": 28,
     "metadata": {},
     "output_type": "execute_result"
    },
    {
     "data": {
      "image/png": "[encoded data removed]",
      "text/plain": [
       "<matplotlib.figure.Figure at 0x83aefb0>"
      ]
     },
     "metadata": {},
     "output_type": "display_data"
    }
   ],
   "source": [
    "g = sns.factorplot(x=\"Survived\", y=\"Age\", hue=\"Sex\", data=data,\n",
    "                   size=6, kind=\"bar\", palette=\"muted\")\n",
    "g.despine(left=True)\n",
    "g.set_ylabels(\"Age\")"
   ]
  },
  {
   "cell_type": "markdown",
   "metadata": {},
   "source": [
    "Side by side comparison of males and females by age further supports that. After looking at all the data and the distribution\n"
   ]
  },
  {
   "cell_type": "markdown",
   "metadata": {},
   "source": [
    "## Hypothesis testing"
   ]
  },
  {
   "cell_type": "markdown",
   "metadata": {},
   "source": [
    "I have a hypothesis that passengers that are lower in age(<15 years) had greater chance of survival than females.\n",
    "\n",
    "Null Hypothesis would be that the difference in chances of survival of passengers greater or lower than 15 years is not significant and alternate would be that it is significant.\n",
    "\n",
    "                            H0: µchild = µfemale at α = 0.05, \n",
    "                            HA: µchild ≠ µfemale at α = 0.05, where α is the t-critical at which the probability is .05 and µchild and µfemale are population means for the two groups."
   ]
  },
  {
   "cell_type": "code",
   "execution_count": 62,
   "metadata": {
    "collapsed": false
   },
   "outputs": [],
   "source": [
    "#Children under 15yrs of age\n",
    "data_children = data[data['Age'] <= 15]"
   ]
  },
  {
   "cell_type": "code",
   "execution_count": 63,
   "metadata": {
    "collapsed": false
   },
   "outputs": [],
   "source": [
    "#Females of age greater than 15 years\n",
    "data_female = data[(data['Sex'] == 'female') & (data['Age'] > 15)]"
   ]
  },
  {
   "cell_type": "code",
   "execution_count": 64,
   "metadata": {
    "collapsed": false
   },
   "outputs": [
    {
     "data": {
      "text/plain": [
       "Ttest_indResult(statistic=-3.0179972825078307, pvalue=0.0030663424375674069)"
      ]
     },
     "execution_count": 64,
     "metadata": {},
     "output_type": "execute_result"
    }
   ],
   "source": [
    "scipy.stats.ttest_ind(data_children['Survived'], data_female['Survived'], axis=0, equal_var=False, nan_policy='propagate')"
   ]
  },
  {
   "cell_type": "markdown",
   "metadata": {},
   "source": [
    "#### Conclusion- since p value is low, the difference in mean survival is significant for females vs. children. Negative t-statistic shows that the mean survival of females is more than that of children"
   ]
  }
 ],
 "metadata": {
  "kernelspec": {
   "display_name": "Python 3",
   "language": "python",
   "name": "python3"
  },
  "language_info": {
   "codemirror_mode": {
    "name": "ipython",
    "version": 3
   },
   "file_extension": ".py",
   "mimetype": "text/x-python",
   "name": "python",
   "nbconvert_exporter": "python",
   "pygments_lexer": "ipython3",
   "version": "3.5.1"
  }
 },
 "nbformat": 4,
 "nbformat_minor": 0
}
